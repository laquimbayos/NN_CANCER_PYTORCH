{
 "cells": [
  {
   "cell_type": "markdown",
   "id": "7dbeeed9",
   "metadata": {},
   "source": [
    "# Implementación de una Red Neuronal para la Detección de Cáncer con PyTorch"
   ]
  },
  {
   "cell_type": "markdown",
   "id": "3a7f2c13",
   "metadata": {},
   "source": [
    "# Importación de Bibliotecas\n",
    "\n",
    "En este bloque de código, se importan las bibliotecas y módulos necesarios para llevar a cabo la implementación de una red neuronal para la detección de cáncer. A continuación, se detallan las bibliotecas utilizadas:\n",
    "\n",
    "\n",
    "- `pandas`: Esta biblioteca se emplea para la manipulación de datos en forma de DataFrames, facilitando el procesamiento de datos tabulares.\n",
    "\n",
    "- `numpy`: Se utiliza para realizar operaciones matriciales y numéricas eficientes, lo que es fundamental en la manipulación de datos y cálculos de redes neuronales.\n",
    "\n",
    "- `torch`: Se importa para trabajar con PyTorch, una biblioteca ampliamente utilizada en la implementación de redes neuronales.\n",
    "\n",
    "- `torch.utils.data`: Este módulo se utiliza para manejar conjuntos de datos en PyTorch, incluyendo la creación de conjuntos de datos y cargadores de datos.\n",
    "\n",
    "- `nn` y `optim` de `torch`: Se emplean para definir y optimizar modelos de redes neuronales, respectivamente.\n",
    "\n",
    "- `sklearn.metrics.accuracy_score`: Es utilizado para calcular la precisión del modelo, una métrica común en problemas de clasificación.\n",
    "\n",
    "- `sklearn.model_selection.train_test_split`: Esta función permite dividir el conjunto de datos en conjuntos de entrenamiento y prueba, esencial para el proceso de evaluación del modelo.\n",
    "\n",
    "- `tqdm`: Se utiliza para mostrar barras de progreso durante el entrenamiento del modelo, lo que facilita el seguimiento del proceso.\n",
    "\n",
    "- `sklearn.datasets.load_breast_cancer`: Se importa el conjunto de datos de cáncer de mama proporcionado por scikit-learn, que se utilizará en este proyecto.\n"
   ]
  },
  {
   "cell_type": "code",
   "execution_count": 3,
   "id": "b9c4e3b6",
   "metadata": {},
   "outputs": [],
   "source": [
    "import os\n",
    "import pandas as pd\n",
    "import numpy as np\n",
    "import torch\n",
    "from torch.utils.data import DataLoader, TensorDataset\n",
    "from torch import nn, optim\n",
    "from sklearn.metrics import accuracy_score\n",
    "from sklearn.model_selection import train_test_split\n",
    "from tqdm import tqdm\n",
    "from sklearn.datasets import load_breast_cancer"
   ]
  },
  {
   "cell_type": "markdown",
   "id": "8d459dcf",
   "metadata": {},
   "source": [
    "# Cargar el Conjunto de Datos y Dividirlo en Entrenamiento y Prueba\n",
    "\n",
    "En esta sección del código, se realiza la preparación de los datos. A continuación, se describen los pasos clave:\n",
    "\n",
    "1. **Carga del Conjunto de Datos**: Se utiliza la función `load_breast_cancer()` para cargar el conjunto de datos de cáncer de mama proporcionado por scikit-learn. Los datos se almacenan en las variables `X` (características) y `y` (etiquetas).\n",
    "\n",
    "2. **División en Conjuntos de Entrenamiento y Prueba**: Los datos se dividen en dos conjuntos: entrenamiento y prueba, utilizando la función `train_test_split()`. Se reserva el 20% de los datos para el conjunto de prueba, y se utiliza una semilla (`random_state`) para garantizar reproducibilidad.\n",
    "\n",
    "3. **Conversión a Tensores de PyTorch**: Los datos, que inicialmente son matrices numpy, se convierten en tensores de PyTorch. Se utilizan tensores de tipo `float32` para las características (`X_train_tensor` y `X_test_tensor`) y tensores de tipo `long` para las etiquetas (`y_train_tensor` y `y_test_tensor`).\n",
    "\n",
    "4. **Creación de Conjuntos de Datos TensorDataset**: Se crean conjuntos de datos `TensorDataset` tanto para el conjunto de entrenamiento como para el de prueba. Estos conjuntos permiten combinar las características y las etiquetas en un formato que PyTorch puede manejar fácilmente.\n",
    "\n",
    "5. **Creación de DataLoaders**: Finalmente, se crean DataLoaders para el conjunto de entrenamiento y el conjunto de prueba utilizando los conjuntos de datos `TensorDataset`. Estos DataLoaders se utilizan posteriormente para iterar sobre los datos en lotes durante el entrenamiento y la evaluación de la red neuronal.\n",
    "\n",
    "Este proceso asegura que los datos estén listos y en el formato adecuado para ser utilizados en el entrenamiento y prueba de la red neuronal.\n"
   ]
  },
  {
   "cell_type": "code",
   "execution_count": 4,
   "id": "9fda1431",
   "metadata": {},
   "outputs": [],
   "source": [
    "# Cargar el conjunto de datos y dividirlo en entrenamiento y prueba\n",
    "breast_dataset = load_breast_cancer()\n",
    "X = breast_dataset.data\n",
    "y = breast_dataset.target\n",
    "\n",
    "X_train, X_test, y_train, y_test = train_test_split(X, y, test_size=0.2, random_state=2)\n",
    "\n",
    "# Convertir los datos de numpy a tensores de PyTorch\n",
    "X_train_tensor = torch.tensor(X_train, dtype=torch.float32)\n",
    "y_train_tensor = torch.tensor(y_train, dtype=torch.long)\n",
    "X_test_tensor = torch.tensor(X_test, dtype=torch.float32)\n",
    "y_test_tensor = torch.tensor(y_test, dtype=torch.long)\n",
    "\n",
    "# Crear conjuntos de datos TensorDataset para entrenamiento y prueba\n",
    "train_dataset = TensorDataset(X_train_tensor, y_train_tensor)\n",
    "test_dataset = TensorDataset(X_test_tensor, y_test_tensor)\n",
    "\n",
    "# Crear DataLoaders para entrenamiento y prueba\n",
    "batch_size = 15  # Tamaño del lote\n",
    "train_loader = DataLoader(train_dataset, batch_size=batch_size, shuffle=True)\n",
    "test_loader = DataLoader(test_dataset, batch_size=batch_size, shuffle=False)"
   ]
  },
  {
   "cell_type": "markdown",
   "id": "fdde6bde",
   "metadata": {},
   "source": [
    "# Definición de la Arquitectura de la Red Neuronal\n",
    "\n",
    "En este bloque de código, se define la arquitectura de la red neuronal. A continuación, se describen los aspectos clave de la arquitectura:\n",
    "\n",
    "- **Clase `Red`**: Se define una clase llamada `Red` que hereda de `nn.Module`, una clase base de PyTorch para la construcción de modelos de redes neuronales.\n",
    "\n",
    "- **Módulos Lineales**: La red consta de tres capas lineales definidas mediante `nn.Linear`. Cada capa lineal se describe como sigue:\n",
    "  - `self.linear1`: Primera capa lineal con `n_entradas` neuronas de entrada y 15 neuronas de salida. La función de activación utilizada en esta capa es la función sigmoide (`torch.sigmoid`).\n",
    "  - `self.linear2`: Segunda capa lineal con 15 neuronas de entrada y 8 neuronas de salida. También utiliza la función sigmoide como función de activación.\n",
    "  - `self.linear3`: Tercera capa lineal con 8 neuronas de entrada y 2 neuronas de salida. Esta capa es la capa de salida utilizada para la clasificación binaria, por lo que no se aplica una función de activación.\n",
    "\n",
    "- **Método `forward`**: En el método `forward`, se define cómo se propagan las entradas a través de la red. Se aplican las funciones sigmoide en las dos primeras capas lineales (`pred_1` y `pred_2`) y no se aplica ninguna función de activación en la capa de salida (`pred_f`). La salida final de la red se obtiene de `pred_f`.\n"
   ]
  },
  {
   "cell_type": "code",
   "execution_count": 5,
   "id": "1ff7513b",
   "metadata": {},
   "outputs": [],
   "source": [
    "# Definir la arquitectura de la red neuronal\n",
    "class Red(nn.Module):\n",
    "    def __init__(self, n_entradas):\n",
    "        super(Red, self).__init__()\n",
    "        self.linear1 = nn.Linear(n_entradas, 15)\n",
    "        self.linear2 = nn.Linear(15, 8)\n",
    "        self.linear3 = nn.Linear(8, 2)  # 2 salidas para clasificación binaria\n",
    "\n",
    "    def forward(self, inputs):\n",
    "        pred_1 = torch.sigmoid(self.linear1(inputs))\n",
    "        pred_2 = torch.sigmoid(self.linear2(pred_1))\n",
    "        pred_f = self.linear3(pred_2)\n",
    "        return pred_f"
   ]
  },
  {
   "cell_type": "markdown",
   "id": "c4f7fb24",
   "metadata": {},
   "source": [
    "# Definición de Hiperparámetros y Creación del Modelo\n",
    "\n",
    "En esta sección del código, se definen los hiperparámetros clave para la configuración del entrenamiento y se crea una instancia del modelo de red neuronal. A continuación, se describen los aspectos clave:\n",
    "\n",
    "- **Tasa de Aprendizaje (lr)**: Se define la tasa de aprendizaje (`lr`) con un valor de 0.001. Esta tasa de aprendizaje determina el tamaño de los pasos que se toman durante el proceso de optimización.\n",
    "\n",
    "- **Número de Entradas (n_entradas)**: El número de neuronas de entrada se obtiene a partir de la forma de los datos de entrenamiento (`X_train`). Esto se hace con el fin de configurar correctamente la capa de entrada de la red.\n",
    "\n",
    "- **Creación del Modelo**: Se crea una instancia del modelo de red neuronal llamado `model`. El modelo se inicializa con la arquitectura definida previamente en la clase `Red` y se pasa el número de entradas correspondiente.\n",
    "\n",
    "- **Función de Pérdida (loss_fn)**: Se define la función de pérdida que se utilizará durante el entrenamiento. En este caso, se utiliza `nn.CrossEntropyLoss()`, que es adecuada para problemas de clasificación.\n",
    "\n",
    "- **Optimizador**: Se crea un optimizador llamado `optimizer` utilizando el algoritmo de descenso de gradiente estocástico (SGD). El optimizador se configura para actualizar los parámetros del modelo con la tasa de aprendizaje definida anteriormente.\n",
    "\n"
   ]
  },
  {
   "cell_type": "code",
   "execution_count": 6,
   "id": "c27702d3",
   "metadata": {},
   "outputs": [],
   "source": [
    "# Definir hiperparámetros y crear el modelo\n",
    "lr = 0.001\n",
    "\n",
    "n_entradas = X_train.shape[1]\n",
    "model = Red(n_entradas=n_entradas)\n",
    "loss_fn = nn.CrossEntropyLoss()\n",
    "optimizer = torch.optim.SGD(model.parameters(), lr=lr)"
   ]
  },
  {
   "cell_type": "markdown",
   "id": "3a43743a",
   "metadata": {},
   "source": [
    "# Entrenamiento del Modelo\n",
    "\n",
    "En esta sección del código, se define la función de entrenamiento y se inicia el proceso de entrenamiento de la red neuronal. A continuación, se describen los aspectos clave:\n",
    "\n",
    "- **Listas para el Seguimiento**: Se inicializan tres listas vacías: `MLossXepoc` para almacenar las pérdidas promedio por época, `ACCxEpoc` para almacenar las precisiones por época y `epochX` para almacenar el número de épocas. Estas listas se utilizan para realizar un seguimiento del progreso del entrenamiento.\n",
    "\n",
    "- **Función de Entrenamiento (train)**: Se define la función `train` que realiza una época de entrenamiento. Dentro de esta función:\n",
    "  - El modelo se coloca en modo de entrenamiento (`model.train()`).\n",
    "  - Se define la función de pérdida utilizando `torch.nn.CrossEntropyLoss()`.\n",
    "  - Se inicializan listas para almacenar las pérdidas y se establecen contadores para el número de predicciones correctas y ejemplos totales.\n",
    "  - Se itera a través de los lotes de datos en el `train_loader` utilizando `enumerate(tqdm(train_loader))` para mostrar una barra de progreso.\n",
    "  - Se envían los datos y etiquetas al dispositivo especificado (en este caso, CPU) y se realizan los pasos de optimización para ajustar los parámetros del modelo.\n",
    "  - Se calcula la precisión del modelo en el lote actual y se actualizan los contadores de predicciones correctas y ejemplos totales.\n",
    "  - Se almacena la pérdida promedio y la precisión en las listas correspondientes (`MLossXepoc` y `ACCxEpoc`).\n",
    "  - Se muestra el progreso del entrenamiento en cada época, incluyendo la pérdida y la precisión.\n",
    "\n",
    "- **Bucle de Entrenamiento**: Se inicia un bucle `for` que ejecuta el entrenamiento durante 99 épocas. Dentro del bucle, se llama a la función `train` para entrenar la red en cada época. El dispositivo se establece en \"cpu\" en este ejemplo.\n",
    "\n",
    "Este código realiza el entrenamiento de la red neuronal durante múltiples épocas y realiza un seguimiento de la pérdida y la precisión en cada época para evaluar el rendimiento del modelo.\n"
   ]
  },
  {
   "cell_type": "code",
   "execution_count": 8,
   "id": "8ad172e2",
   "metadata": {
    "scrolled": true
   },
   "outputs": [
    {
     "name": "stderr",
     "output_type": "stream",
     "text": [
      "100%|██████████| 31/31 [00:00<00:00, 1120.23it/s]\n"
     ]
    },
    {
     "name": "stdout",
     "output_type": "stream",
     "text": [
      "Train Epoch: 1 \tLoss: 77.324213%Accuracy: 36.70% \n"
     ]
    },
    {
     "name": "stderr",
     "output_type": "stream",
     "text": [
      "100%|██████████| 31/31 [00:00<00:00, 1145.10it/s]\n"
     ]
    },
    {
     "name": "stdout",
     "output_type": "stream",
     "text": [
      "Train Epoch: 2 \tLoss: 76.068426%Accuracy: 36.70% \n"
     ]
    },
    {
     "name": "stderr",
     "output_type": "stream",
     "text": [
      "100%|██████████| 31/31 [00:00<00:00, 1080.18it/s]\n"
     ]
    },
    {
     "name": "stdout",
     "output_type": "stream",
     "text": [
      "Train Epoch: 3 \tLoss: 74.689725%Accuracy: 36.70% \n"
     ]
    },
    {
     "name": "stderr",
     "output_type": "stream",
     "text": [
      "100%|██████████| 31/31 [00:00<00:00, 1148.72it/s]\n"
     ]
    },
    {
     "name": "stdout",
     "output_type": "stream",
     "text": [
      "Train Epoch: 4 \tLoss: 74.087723%Accuracy: 36.70% \n"
     ]
    },
    {
     "name": "stderr",
     "output_type": "stream",
     "text": [
      "100%|██████████| 31/31 [00:00<00:00, 1136.75it/s]\n"
     ]
    },
    {
     "name": "stdout",
     "output_type": "stream",
     "text": [
      "Train Epoch: 5 \tLoss: 72.968188%Accuracy: 36.70% \n"
     ]
    },
    {
     "name": "stderr",
     "output_type": "stream",
     "text": [
      "100%|██████████| 31/31 [00:00<00:00, 1126.49it/s]\n"
     ]
    },
    {
     "name": "stdout",
     "output_type": "stream",
     "text": [
      "Train Epoch: 6 \tLoss: 72.194831%Accuracy: 36.70% \n"
     ]
    },
    {
     "name": "stderr",
     "output_type": "stream",
     "text": [
      "100%|██████████| 31/31 [00:00<00:00, 966.59it/s]\n"
     ]
    },
    {
     "name": "stdout",
     "output_type": "stream",
     "text": [
      "Train Epoch: 7 \tLoss: 71.447914%Accuracy: 36.70% \n"
     ]
    },
    {
     "name": "stderr",
     "output_type": "stream",
     "text": [
      "100%|██████████| 31/31 [00:00<00:00, 1217.60it/s]\n"
     ]
    },
    {
     "name": "stdout",
     "output_type": "stream",
     "text": [
      "Train Epoch: 8 \tLoss: 70.898498%Accuracy: 36.70% \n"
     ]
    },
    {
     "name": "stderr",
     "output_type": "stream",
     "text": [
      "100%|██████████| 31/31 [00:00<00:00, 1236.05it/s]\n"
     ]
    },
    {
     "name": "stdout",
     "output_type": "stream",
     "text": [
      "Train Epoch: 9 \tLoss: 70.308617%Accuracy: 36.70% \n"
     ]
    },
    {
     "name": "stderr",
     "output_type": "stream",
     "text": [
      "100%|██████████| 31/31 [00:00<00:00, 1223.76it/s]\n"
     ]
    },
    {
     "name": "stdout",
     "output_type": "stream",
     "text": [
      "Train Epoch: 10 \tLoss: 69.869097%Accuracy: 36.70% \n"
     ]
    },
    {
     "name": "stderr",
     "output_type": "stream",
     "text": [
      "100%|██████████| 31/31 [00:00<00:00, 1379.03it/s]\n"
     ]
    },
    {
     "name": "stdout",
     "output_type": "stream",
     "text": [
      "Train Epoch: 11 \tLoss: 69.361523%Accuracy: 44.18% \n"
     ]
    },
    {
     "name": "stderr",
     "output_type": "stream",
     "text": [
      "100%|██████████| 31/31 [00:00<00:00, 1374.86it/s]\n"
     ]
    },
    {
     "name": "stdout",
     "output_type": "stream",
     "text": [
      "Train Epoch: 12 \tLoss: 68.885218%Accuracy: 69.89% \n"
     ]
    },
    {
     "name": "stderr",
     "output_type": "stream",
     "text": [
      "100%|██████████| 31/31 [00:00<00:00, 1441.13it/s]\n"
     ]
    },
    {
     "name": "stdout",
     "output_type": "stream",
     "text": [
      "Train Epoch: 13 \tLoss: 68.326963%Accuracy: 66.81% \n"
     ]
    },
    {
     "name": "stderr",
     "output_type": "stream",
     "text": [
      "100%|██████████| 31/31 [00:00<00:00, 1375.31it/s]\n"
     ]
    },
    {
     "name": "stdout",
     "output_type": "stream",
     "text": [
      "Train Epoch: 14 \tLoss: 67.781950%Accuracy: 63.30% \n"
     ]
    },
    {
     "name": "stderr",
     "output_type": "stream",
     "text": [
      "100%|██████████| 31/31 [00:00<00:00, 1362.06it/s]\n"
     ]
    },
    {
     "name": "stdout",
     "output_type": "stream",
     "text": [
      "Train Epoch: 15 \tLoss: 67.339294%Accuracy: 63.30% \n"
     ]
    },
    {
     "name": "stderr",
     "output_type": "stream",
     "text": [
      "100%|██████████| 31/31 [00:00<00:00, 1338.09it/s]\n"
     ]
    },
    {
     "name": "stdout",
     "output_type": "stream",
     "text": [
      "Train Epoch: 16 \tLoss: 66.656763%Accuracy: 63.30% \n"
     ]
    },
    {
     "name": "stderr",
     "output_type": "stream",
     "text": [
      "100%|██████████| 31/31 [00:00<00:00, 1170.62it/s]\n"
     ]
    },
    {
     "name": "stdout",
     "output_type": "stream",
     "text": [
      "Train Epoch: 17 \tLoss: 66.332341%Accuracy: 63.30% \n"
     ]
    },
    {
     "name": "stderr",
     "output_type": "stream",
     "text": [
      "100%|██████████| 31/31 [00:00<00:00, 1306.74it/s]\n"
     ]
    },
    {
     "name": "stdout",
     "output_type": "stream",
     "text": [
      "Train Epoch: 18 \tLoss: 66.059912%Accuracy: 63.30% \n"
     ]
    },
    {
     "name": "stderr",
     "output_type": "stream",
     "text": [
      "100%|██████████| 31/31 [00:00<00:00, 1331.72it/s]\n"
     ]
    },
    {
     "name": "stdout",
     "output_type": "stream",
     "text": [
      "Train Epoch: 19 \tLoss: 66.025465%Accuracy: 63.30% \n"
     ]
    },
    {
     "name": "stderr",
     "output_type": "stream",
     "text": [
      "100%|██████████| 31/31 [00:00<00:00, 1070.57it/s]\n"
     ]
    },
    {
     "name": "stdout",
     "output_type": "stream",
     "text": [
      "Train Epoch: 20 \tLoss: 65.865614%Accuracy: 63.30% \n"
     ]
    },
    {
     "name": "stderr",
     "output_type": "stream",
     "text": [
      "100%|██████████| 31/31 [00:00<00:00, 1125.83it/s]\n"
     ]
    },
    {
     "name": "stdout",
     "output_type": "stream",
     "text": [
      "Train Epoch: 21 \tLoss: 65.723789%Accuracy: 63.30% \n"
     ]
    },
    {
     "name": "stderr",
     "output_type": "stream",
     "text": [
      "100%|██████████| 31/31 [00:00<00:00, 1136.60it/s]\n"
     ]
    },
    {
     "name": "stdout",
     "output_type": "stream",
     "text": [
      "Train Epoch: 22 \tLoss: 65.387926%Accuracy: 63.30% \n"
     ]
    },
    {
     "name": "stderr",
     "output_type": "stream",
     "text": [
      "100%|██████████| 31/31 [00:00<00:00, 1330.53it/s]\n"
     ]
    },
    {
     "name": "stdout",
     "output_type": "stream",
     "text": [
      "Train Epoch: 23 \tLoss: 65.373880%Accuracy: 63.30% \n"
     ]
    },
    {
     "name": "stderr",
     "output_type": "stream",
     "text": [
      "100%|██████████| 31/31 [00:00<00:00, 1163.97it/s]\n"
     ]
    },
    {
     "name": "stdout",
     "output_type": "stream",
     "text": [
      "Train Epoch: 24 \tLoss: 65.209550%Accuracy: 63.30% \n"
     ]
    },
    {
     "name": "stderr",
     "output_type": "stream",
     "text": [
      "100%|██████████| 31/31 [00:00<00:00, 1164.75it/s]\n"
     ]
    },
    {
     "name": "stdout",
     "output_type": "stream",
     "text": [
      "Train Epoch: 25 \tLoss: 65.340092%Accuracy: 63.30% \n"
     ]
    },
    {
     "name": "stderr",
     "output_type": "stream",
     "text": [
      "100%|██████████| 31/31 [00:00<00:00, 1128.56it/s]\n"
     ]
    },
    {
     "name": "stdout",
     "output_type": "stream",
     "text": [
      "Train Epoch: 26 \tLoss: 64.995679%Accuracy: 63.30% \n"
     ]
    },
    {
     "name": "stderr",
     "output_type": "stream",
     "text": [
      "100%|██████████| 31/31 [00:00<00:00, 1092.43it/s]\n"
     ]
    },
    {
     "name": "stdout",
     "output_type": "stream",
     "text": [
      "Train Epoch: 27 \tLoss: 64.964195%Accuracy: 63.30% \n"
     ]
    },
    {
     "name": "stderr",
     "output_type": "stream",
     "text": [
      "100%|██████████| 31/31 [00:00<00:00, 1032.00it/s]\n"
     ]
    },
    {
     "name": "stdout",
     "output_type": "stream",
     "text": [
      "Train Epoch: 28 \tLoss: 64.771913%Accuracy: 63.30% \n"
     ]
    },
    {
     "name": "stderr",
     "output_type": "stream",
     "text": [
      "100%|██████████| 31/31 [00:00<00:00, 1455.98it/s]\n"
     ]
    },
    {
     "name": "stdout",
     "output_type": "stream",
     "text": [
      "Train Epoch: 29 \tLoss: 64.505076%Accuracy: 63.30% \n"
     ]
    },
    {
     "name": "stderr",
     "output_type": "stream",
     "text": [
      "100%|██████████| 31/31 [00:00<00:00, 1477.67it/s]\n"
     ]
    },
    {
     "name": "stdout",
     "output_type": "stream",
     "text": [
      "Train Epoch: 30 \tLoss: 64.692417%Accuracy: 63.30% \n"
     ]
    },
    {
     "name": "stderr",
     "output_type": "stream",
     "text": [
      "100%|██████████| 31/31 [00:00<00:00, 1036.95it/s]\n"
     ]
    },
    {
     "name": "stdout",
     "output_type": "stream",
     "text": [
      "Train Epoch: 31 \tLoss: 64.780910%Accuracy: 63.30% \n"
     ]
    },
    {
     "name": "stderr",
     "output_type": "stream",
     "text": [
      "100%|██████████| 31/31 [00:00<00:00, 1469.19it/s]\n"
     ]
    },
    {
     "name": "stdout",
     "output_type": "stream",
     "text": [
      "Train Epoch: 32 \tLoss: 64.677006%Accuracy: 63.30% \n"
     ]
    },
    {
     "name": "stderr",
     "output_type": "stream",
     "text": [
      "100%|██████████| 31/31 [00:00<00:00, 1464.59it/s]\n"
     ]
    },
    {
     "name": "stdout",
     "output_type": "stream",
     "text": [
      "Train Epoch: 33 \tLoss: 64.307546%Accuracy: 63.30% \n"
     ]
    },
    {
     "name": "stderr",
     "output_type": "stream",
     "text": [
      "100%|██████████| 31/31 [00:00<00:00, 1381.58it/s]\n"
     ]
    },
    {
     "name": "stdout",
     "output_type": "stream",
     "text": [
      "Train Epoch: 34 \tLoss: 64.378709%Accuracy: 63.30% \n"
     ]
    },
    {
     "name": "stderr",
     "output_type": "stream",
     "text": [
      "100%|██████████| 31/31 [00:00<00:00, 1430.21it/s]\n"
     ]
    },
    {
     "name": "stdout",
     "output_type": "stream",
     "text": [
      "Train Epoch: 35 \tLoss: 64.015403%Accuracy: 63.30% \n"
     ]
    },
    {
     "name": "stderr",
     "output_type": "stream",
     "text": [
      "100%|██████████| 31/31 [00:00<00:00, 1274.44it/s]\n"
     ]
    },
    {
     "name": "stdout",
     "output_type": "stream",
     "text": [
      "Train Epoch: 36 \tLoss: 64.495146%Accuracy: 63.30% \n"
     ]
    },
    {
     "name": "stderr",
     "output_type": "stream",
     "text": [
      "100%|██████████| 31/31 [00:00<00:00, 1058.50it/s]\n"
     ]
    },
    {
     "name": "stdout",
     "output_type": "stream",
     "text": [
      "Train Epoch: 37 \tLoss: 64.071801%Accuracy: 63.30% \n"
     ]
    },
    {
     "name": "stderr",
     "output_type": "stream",
     "text": [
      "100%|██████████| 31/31 [00:00<00:00, 1245.73it/s]\n"
     ]
    },
    {
     "name": "stdout",
     "output_type": "stream",
     "text": [
      "Train Epoch: 38 \tLoss: 64.358426%Accuracy: 63.30% \n"
     ]
    },
    {
     "name": "stderr",
     "output_type": "stream",
     "text": [
      "100%|██████████| 31/31 [00:00<00:00, 1179.63it/s]\n"
     ]
    },
    {
     "name": "stdout",
     "output_type": "stream",
     "text": [
      "Train Epoch: 39 \tLoss: 63.782763%Accuracy: 63.30% \n"
     ]
    },
    {
     "name": "stderr",
     "output_type": "stream",
     "text": [
      "100%|██████████| 31/31 [00:00<00:00, 1102.51it/s]\n"
     ]
    },
    {
     "name": "stdout",
     "output_type": "stream",
     "text": [
      "Train Epoch: 40 \tLoss: 64.123135%Accuracy: 63.30% \n"
     ]
    },
    {
     "name": "stderr",
     "output_type": "stream",
     "text": [
      "100%|██████████| 31/31 [00:00<00:00, 1023.21it/s]\n"
     ]
    },
    {
     "name": "stdout",
     "output_type": "stream",
     "text": [
      "Train Epoch: 41 \tLoss: 64.483966%Accuracy: 63.30% \n"
     ]
    },
    {
     "name": "stderr",
     "output_type": "stream",
     "text": [
      "100%|██████████| 31/31 [00:00<00:00, 1133.96it/s]\n"
     ]
    },
    {
     "name": "stdout",
     "output_type": "stream",
     "text": [
      "Train Epoch: 42 \tLoss: 64.071290%Accuracy: 63.30% \n"
     ]
    },
    {
     "name": "stderr",
     "output_type": "stream",
     "text": [
      "100%|██████████| 31/31 [00:00<00:00, 1057.40it/s]\n"
     ]
    },
    {
     "name": "stdout",
     "output_type": "stream",
     "text": [
      "Train Epoch: 43 \tLoss: 64.205418%Accuracy: 63.30% \n"
     ]
    },
    {
     "name": "stderr",
     "output_type": "stream",
     "text": [
      "100%|██████████| 31/31 [00:00<00:00, 1135.71it/s]\n"
     ]
    },
    {
     "name": "stdout",
     "output_type": "stream",
     "text": [
      "Train Epoch: 44 \tLoss: 63.772355%Accuracy: 63.30% \n"
     ]
    },
    {
     "name": "stderr",
     "output_type": "stream",
     "text": [
      "100%|██████████| 31/31 [00:00<00:00, 1057.19it/s]\n"
     ]
    },
    {
     "name": "stdout",
     "output_type": "stream",
     "text": [
      "Train Epoch: 45 \tLoss: 63.753136%Accuracy: 63.30% \n"
     ]
    },
    {
     "name": "stderr",
     "output_type": "stream",
     "text": [
      "100%|██████████| 31/31 [00:00<00:00, 1022.60it/s]\n"
     ]
    },
    {
     "name": "stdout",
     "output_type": "stream",
     "text": [
      "Train Epoch: 46 \tLoss: 63.739926%Accuracy: 63.30% \n"
     ]
    },
    {
     "name": "stderr",
     "output_type": "stream",
     "text": [
      "100%|██████████| 31/31 [00:00<00:00, 1063.26it/s]\n"
     ]
    },
    {
     "name": "stdout",
     "output_type": "stream",
     "text": [
      "Train Epoch: 47 \tLoss: 63.874011%Accuracy: 63.30% \n"
     ]
    },
    {
     "name": "stderr",
     "output_type": "stream",
     "text": [
      "100%|██████████| 31/31 [00:00<00:00, 999.21it/s]\n"
     ]
    },
    {
     "name": "stdout",
     "output_type": "stream",
     "text": [
      "Train Epoch: 48 \tLoss: 63.615399%Accuracy: 63.30% \n"
     ]
    },
    {
     "name": "stderr",
     "output_type": "stream",
     "text": [
      "100%|██████████| 31/31 [00:00<00:00, 1079.53it/s]\n"
     ]
    },
    {
     "name": "stdout",
     "output_type": "stream",
     "text": [
      "Train Epoch: 49 \tLoss: 64.054523%Accuracy: 63.30% \n"
     ]
    },
    {
     "name": "stderr",
     "output_type": "stream",
     "text": [
      "100%|██████████| 31/31 [00:00<00:00, 1019.06it/s]\n"
     ]
    },
    {
     "name": "stdout",
     "output_type": "stream",
     "text": [
      "Train Epoch: 50 \tLoss: 63.991000%Accuracy: 63.30% \n"
     ]
    },
    {
     "name": "stderr",
     "output_type": "stream",
     "text": [
      "100%|██████████| 31/31 [00:00<00:00, 1014.77it/s]\n"
     ]
    },
    {
     "name": "stdout",
     "output_type": "stream",
     "text": [
      "Train Epoch: 51 \tLoss: 63.761268%Accuracy: 63.30% \n"
     ]
    },
    {
     "name": "stderr",
     "output_type": "stream",
     "text": [
      "100%|██████████| 31/31 [00:00<00:00, 1060.61it/s]\n"
     ]
    },
    {
     "name": "stdout",
     "output_type": "stream",
     "text": [
      "Train Epoch: 52 \tLoss: 63.737151%Accuracy: 63.30% \n"
     ]
    },
    {
     "name": "stderr",
     "output_type": "stream",
     "text": [
      "100%|██████████| 31/31 [00:00<00:00, 1027.46it/s]\n"
     ]
    },
    {
     "name": "stdout",
     "output_type": "stream",
     "text": [
      "Train Epoch: 53 \tLoss: 63.926848%Accuracy: 63.30% \n"
     ]
    },
    {
     "name": "stderr",
     "output_type": "stream",
     "text": [
      "100%|██████████| 31/31 [00:00<00:00, 1046.60it/s]\n"
     ]
    },
    {
     "name": "stdout",
     "output_type": "stream",
     "text": [
      "Train Epoch: 54 \tLoss: 63.276555%Accuracy: 63.30% \n"
     ]
    },
    {
     "name": "stderr",
     "output_type": "stream",
     "text": [
      "100%|██████████| 31/31 [00:00<00:00, 1212.70it/s]\n"
     ]
    },
    {
     "name": "stdout",
     "output_type": "stream",
     "text": [
      "Train Epoch: 55 \tLoss: 63.698105%Accuracy: 63.30% \n"
     ]
    },
    {
     "name": "stderr",
     "output_type": "stream",
     "text": [
      "100%|██████████| 31/31 [00:00<00:00, 1011.30it/s]\n"
     ]
    },
    {
     "name": "stdout",
     "output_type": "stream",
     "text": [
      "Train Epoch: 56 \tLoss: 63.415420%Accuracy: 63.30% \n"
     ]
    },
    {
     "name": "stderr",
     "output_type": "stream",
     "text": [
      "100%|██████████| 31/31 [00:00<00:00, 915.88it/s]\n"
     ]
    },
    {
     "name": "stdout",
     "output_type": "stream",
     "text": [
      "Train Epoch: 57 \tLoss: 63.820402%Accuracy: 63.30% \n"
     ]
    },
    {
     "name": "stderr",
     "output_type": "stream",
     "text": [
      "100%|██████████| 31/31 [00:00<00:00, 1017.53it/s]\n"
     ]
    },
    {
     "name": "stdout",
     "output_type": "stream",
     "text": [
      "Train Epoch: 58 \tLoss: 63.402252%Accuracy: 63.30% \n"
     ]
    },
    {
     "name": "stderr",
     "output_type": "stream",
     "text": [
      "100%|██████████| 31/31 [00:00<00:00, 1240.02it/s]\n"
     ]
    },
    {
     "name": "stdout",
     "output_type": "stream",
     "text": [
      "Train Epoch: 59 \tLoss: 63.357741%Accuracy: 63.30% \n"
     ]
    },
    {
     "name": "stderr",
     "output_type": "stream",
     "text": [
      "100%|██████████| 31/31 [00:00<00:00, 1254.11it/s]\n"
     ]
    },
    {
     "name": "stdout",
     "output_type": "stream",
     "text": [
      "Train Epoch: 60 \tLoss: 63.536168%Accuracy: 63.30% \n"
     ]
    },
    {
     "name": "stderr",
     "output_type": "stream",
     "text": [
      "100%|██████████| 31/31 [00:00<00:00, 1302.79it/s]\n"
     ]
    },
    {
     "name": "stdout",
     "output_type": "stream",
     "text": [
      "Train Epoch: 61 \tLoss: 63.112367%Accuracy: 63.30% \n"
     ]
    },
    {
     "name": "stderr",
     "output_type": "stream",
     "text": [
      "100%|██████████| 31/31 [00:00<00:00, 1159.43it/s]\n"
     ]
    },
    {
     "name": "stdout",
     "output_type": "stream",
     "text": [
      "Train Epoch: 62 \tLoss: 63.288906%Accuracy: 63.30% \n"
     ]
    },
    {
     "name": "stderr",
     "output_type": "stream",
     "text": [
      "100%|██████████| 31/31 [00:00<00:00, 1233.99it/s]\n"
     ]
    },
    {
     "name": "stdout",
     "output_type": "stream",
     "text": [
      "Train Epoch: 63 \tLoss: 63.475385%Accuracy: 63.30% \n"
     ]
    },
    {
     "name": "stderr",
     "output_type": "stream",
     "text": [
      "100%|██████████| 31/31 [00:00<00:00, 1209.61it/s]\n"
     ]
    },
    {
     "name": "stdout",
     "output_type": "stream",
     "text": [
      "Train Epoch: 64 \tLoss: 63.265704%Accuracy: 63.30% \n"
     ]
    },
    {
     "name": "stderr",
     "output_type": "stream",
     "text": [
      "100%|██████████| 31/31 [00:00<00:00, 1241.46it/s]\n"
     ]
    },
    {
     "name": "stdout",
     "output_type": "stream",
     "text": [
      "Train Epoch: 65 \tLoss: 63.444751%Accuracy: 63.30% \n"
     ]
    },
    {
     "name": "stderr",
     "output_type": "stream",
     "text": [
      "100%|██████████| 31/31 [00:00<00:00, 1010.15it/s]\n"
     ]
    },
    {
     "name": "stdout",
     "output_type": "stream",
     "text": [
      "Train Epoch: 66 \tLoss: 63.449450%Accuracy: 63.30% \n"
     ]
    },
    {
     "name": "stderr",
     "output_type": "stream",
     "text": [
      "100%|██████████| 31/31 [00:00<00:00, 1146.53it/s]\n"
     ]
    },
    {
     "name": "stdout",
     "output_type": "stream",
     "text": [
      "Train Epoch: 67 \tLoss: 62.980371%Accuracy: 63.30% \n"
     ]
    },
    {
     "name": "stderr",
     "output_type": "stream",
     "text": [
      "100%|██████████| 31/31 [00:00<00:00, 1244.83it/s]\n"
     ]
    },
    {
     "name": "stdout",
     "output_type": "stream",
     "text": [
      "Train Epoch: 68 \tLoss: 63.647473%Accuracy: 63.30% \n"
     ]
    },
    {
     "name": "stderr",
     "output_type": "stream",
     "text": [
      "100%|██████████| 31/31 [00:00<00:00, 1122.46it/s]\n"
     ]
    },
    {
     "name": "stdout",
     "output_type": "stream",
     "text": [
      "Train Epoch: 69 \tLoss: 63.348467%Accuracy: 63.30% \n"
     ]
    },
    {
     "name": "stderr",
     "output_type": "stream",
     "text": [
      "100%|██████████| 31/31 [00:00<00:00, 1171.10it/s]\n"
     ]
    },
    {
     "name": "stdout",
     "output_type": "stream",
     "text": [
      "Train Epoch: 70 \tLoss: 63.557183%Accuracy: 63.30% \n"
     ]
    },
    {
     "name": "stderr",
     "output_type": "stream",
     "text": [
      "100%|██████████| 31/31 [00:00<00:00, 1023.47it/s]\n"
     ]
    },
    {
     "name": "stdout",
     "output_type": "stream",
     "text": [
      "Train Epoch: 71 \tLoss: 63.335661%Accuracy: 63.30% \n"
     ]
    },
    {
     "name": "stderr",
     "output_type": "stream",
     "text": [
      "100%|██████████| 31/31 [00:00<00:00, 1057.16it/s]\n"
     ]
    },
    {
     "name": "stdout",
     "output_type": "stream",
     "text": [
      "Train Epoch: 72 \tLoss: 63.311580%Accuracy: 63.30% \n"
     ]
    },
    {
     "name": "stderr",
     "output_type": "stream",
     "text": [
      "100%|██████████| 31/31 [00:00<00:00, 1091.39it/s]\n"
     ]
    },
    {
     "name": "stdout",
     "output_type": "stream",
     "text": [
      "Train Epoch: 73 \tLoss: 63.086570%Accuracy: 63.30% \n"
     ]
    },
    {
     "name": "stderr",
     "output_type": "stream",
     "text": [
      "100%|██████████| 31/31 [00:00<00:00, 1118.23it/s]\n"
     ]
    },
    {
     "name": "stdout",
     "output_type": "stream",
     "text": [
      "Train Epoch: 74 \tLoss: 63.075765%Accuracy: 63.30% \n"
     ]
    },
    {
     "name": "stderr",
     "output_type": "stream",
     "text": [
      "100%|██████████| 31/31 [00:00<00:00, 1310.23it/s]\n"
     ]
    },
    {
     "name": "stdout",
     "output_type": "stream",
     "text": [
      "Train Epoch: 75 \tLoss: 63.017913%Accuracy: 63.30% \n"
     ]
    },
    {
     "name": "stderr",
     "output_type": "stream",
     "text": [
      "100%|██████████| 31/31 [00:00<00:00, 1115.37it/s]\n"
     ]
    },
    {
     "name": "stdout",
     "output_type": "stream",
     "text": [
      "Train Epoch: 76 \tLoss: 62.796042%Accuracy: 63.30% \n"
     ]
    },
    {
     "name": "stderr",
     "output_type": "stream",
     "text": [
      "100%|██████████| 31/31 [00:00<00:00, 1232.78it/s]\n"
     ]
    },
    {
     "name": "stdout",
     "output_type": "stream",
     "text": [
      "Train Epoch: 77 \tLoss: 63.438209%Accuracy: 63.30% \n"
     ]
    },
    {
     "name": "stderr",
     "output_type": "stream",
     "text": [
      "100%|██████████| 31/31 [00:00<00:00, 759.07it/s]\n"
     ]
    },
    {
     "name": "stdout",
     "output_type": "stream",
     "text": [
      "Train Epoch: 78 \tLoss: 63.420997%Accuracy: 63.30% \n"
     ]
    },
    {
     "name": "stderr",
     "output_type": "stream",
     "text": [
      "100%|██████████| 31/31 [00:00<00:00, 967.59it/s]\n"
     ]
    },
    {
     "name": "stdout",
     "output_type": "stream",
     "text": [
      "Train Epoch: 79 \tLoss: 63.211022%Accuracy: 63.30% \n"
     ]
    },
    {
     "name": "stderr",
     "output_type": "stream",
     "text": [
      "100%|██████████| 31/31 [00:00<00:00, 1001.03it/s]\n"
     ]
    },
    {
     "name": "stdout",
     "output_type": "stream",
     "text": [
      "Train Epoch: 80 \tLoss: 63.159938%Accuracy: 63.30% \n"
     ]
    },
    {
     "name": "stderr",
     "output_type": "stream",
     "text": [
      "100%|██████████| 31/31 [00:00<00:00, 1229.23it/s]\n"
     ]
    },
    {
     "name": "stdout",
     "output_type": "stream",
     "text": [
      "Train Epoch: 81 \tLoss: 62.713515%Accuracy: 63.30% \n"
     ]
    },
    {
     "name": "stderr",
     "output_type": "stream",
     "text": [
      "100%|██████████| 31/31 [00:00<00:00, 1224.87it/s]\n"
     ]
    },
    {
     "name": "stdout",
     "output_type": "stream",
     "text": [
      "Train Epoch: 82 \tLoss: 63.346419%Accuracy: 63.30% \n"
     ]
    },
    {
     "name": "stderr",
     "output_type": "stream",
     "text": [
      "100%|██████████| 31/31 [00:00<00:00, 1202.87it/s]\n"
     ]
    },
    {
     "name": "stdout",
     "output_type": "stream",
     "text": [
      "Train Epoch: 83 \tLoss: 63.396655%Accuracy: 63.30% \n"
     ]
    },
    {
     "name": "stderr",
     "output_type": "stream",
     "text": [
      "100%|██████████| 31/31 [00:00<00:00, 1126.44it/s]\n"
     ]
    },
    {
     "name": "stdout",
     "output_type": "stream",
     "text": [
      "Train Epoch: 84 \tLoss: 63.083217%Accuracy: 63.30% \n"
     ]
    },
    {
     "name": "stderr",
     "output_type": "stream",
     "text": [
      "100%|██████████| 31/31 [00:00<00:00, 1033.84it/s]\n"
     ]
    },
    {
     "name": "stdout",
     "output_type": "stream",
     "text": [
      "Train Epoch: 85 \tLoss: 62.808740%Accuracy: 63.30% \n"
     ]
    },
    {
     "name": "stderr",
     "output_type": "stream",
     "text": [
      "100%|██████████| 31/31 [00:00<00:00, 1012.27it/s]\n"
     ]
    },
    {
     "name": "stdout",
     "output_type": "stream",
     "text": [
      "Train Epoch: 86 \tLoss: 62.625497%Accuracy: 63.30% \n"
     ]
    },
    {
     "name": "stderr",
     "output_type": "stream",
     "text": [
      "100%|██████████| 31/31 [00:00<00:00, 1257.66it/s]\n"
     ]
    },
    {
     "name": "stdout",
     "output_type": "stream",
     "text": [
      "Train Epoch: 87 \tLoss: 63.047621%Accuracy: 63.30% \n"
     ]
    },
    {
     "name": "stderr",
     "output_type": "stream",
     "text": [
      "100%|██████████| 31/31 [00:00<00:00, 1222.23it/s]\n"
     ]
    },
    {
     "name": "stdout",
     "output_type": "stream",
     "text": [
      "Train Epoch: 88 \tLoss: 62.815448%Accuracy: 63.30% \n"
     ]
    },
    {
     "name": "stderr",
     "output_type": "stream",
     "text": [
      "100%|██████████| 31/31 [00:00<00:00, 875.20it/s]\n"
     ]
    },
    {
     "name": "stdout",
     "output_type": "stream",
     "text": [
      "Train Epoch: 89 \tLoss: 62.584158%Accuracy: 63.30% \n"
     ]
    },
    {
     "name": "stderr",
     "output_type": "stream",
     "text": [
      "100%|██████████| 31/31 [00:00<00:00, 865.94it/s]\n"
     ]
    },
    {
     "name": "stdout",
     "output_type": "stream",
     "text": [
      "Train Epoch: 90 \tLoss: 62.925030%Accuracy: 63.30% \n"
     ]
    },
    {
     "name": "stderr",
     "output_type": "stream",
     "text": [
      "100%|██████████| 31/31 [00:00<00:00, 896.03it/s]\n"
     ]
    },
    {
     "name": "stdout",
     "output_type": "stream",
     "text": [
      "Train Epoch: 91 \tLoss: 62.976312%Accuracy: 63.30% \n"
     ]
    },
    {
     "name": "stderr",
     "output_type": "stream",
     "text": [
      "100%|██████████| 31/31 [00:00<00:00, 937.76it/s]\n"
     ]
    },
    {
     "name": "stdout",
     "output_type": "stream",
     "text": [
      "Train Epoch: 92 \tLoss: 63.013936%Accuracy: 63.30% \n"
     ]
    },
    {
     "name": "stderr",
     "output_type": "stream",
     "text": [
      "100%|██████████| 31/31 [00:00<00:00, 928.18it/s]\n"
     ]
    },
    {
     "name": "stdout",
     "output_type": "stream",
     "text": [
      "Train Epoch: 93 \tLoss: 63.186048%Accuracy: 63.30% \n"
     ]
    },
    {
     "name": "stderr",
     "output_type": "stream",
     "text": [
      "100%|██████████| 31/31 [00:00<00:00, 854.46it/s]\n"
     ]
    },
    {
     "name": "stdout",
     "output_type": "stream",
     "text": [
      "Train Epoch: 94 \tLoss: 62.913711%Accuracy: 63.30% \n"
     ]
    },
    {
     "name": "stderr",
     "output_type": "stream",
     "text": [
      "100%|██████████| 31/31 [00:00<00:00, 799.56it/s]\n"
     ]
    },
    {
     "name": "stdout",
     "output_type": "stream",
     "text": [
      "Train Epoch: 95 \tLoss: 62.869587%Accuracy: 63.30% \n"
     ]
    },
    {
     "name": "stderr",
     "output_type": "stream",
     "text": [
      "100%|██████████| 31/31 [00:00<00:00, 892.63it/s]\n"
     ]
    },
    {
     "name": "stdout",
     "output_type": "stream",
     "text": [
      "Train Epoch: 96 \tLoss: 62.836438%Accuracy: 63.30% \n"
     ]
    },
    {
     "name": "stderr",
     "output_type": "stream",
     "text": [
      "100%|██████████| 31/31 [00:00<00:00, 959.14it/s]\n"
     ]
    },
    {
     "name": "stdout",
     "output_type": "stream",
     "text": [
      "Train Epoch: 97 \tLoss: 63.048579%Accuracy: 63.30% \n"
     ]
    },
    {
     "name": "stderr",
     "output_type": "stream",
     "text": [
      "100%|██████████| 31/31 [00:00<00:00, 920.51it/s]\n"
     ]
    },
    {
     "name": "stdout",
     "output_type": "stream",
     "text": [
      "Train Epoch: 98 \tLoss: 62.607765%Accuracy: 63.30% \n"
     ]
    },
    {
     "name": "stderr",
     "output_type": "stream",
     "text": [
      "100%|██████████| 31/31 [00:00<00:00, 860.06it/s]"
     ]
    },
    {
     "name": "stdout",
     "output_type": "stream",
     "text": [
      "Train Epoch: 99 \tLoss: 62.795309%Accuracy: 63.30% \n"
     ]
    },
    {
     "name": "stderr",
     "output_type": "stream",
     "text": [
      "\n"
     ]
    }
   ],
   "source": [
    "MLossXepoc = []\n",
    "ACCxEpoc = []\n",
    "epochX = []\n",
    "\n",
    "def train(model, train_loader, optimizer, epoch, device):\n",
    "    \n",
    "    model.train()\n",
    "    criterion = torch.nn.CrossEntropyLoss()\n",
    "    losses = []\n",
    "    correct = 0  # Inicializar el contador de predicciones correctas\n",
    "    total = 0    # Inicializar el contador de ejemplos totales\n",
    "    \n",
    "\n",
    "    \n",
    "    for _batch_idx, (data, target) in enumerate(tqdm(train_loader)):\n",
    "        data, target = data.to(device), target.to(device)\n",
    "        optimizer.zero_grad()\n",
    "        output = model(data)\n",
    "        loss = criterion(output, target)\n",
    "        loss.backward()\n",
    "        optimizer.step()\n",
    "        losses.append(loss.item())     \n",
    "                \n",
    "        # Calcular la precisión\n",
    "        _, predicted = torch.max(output.data, 1)\n",
    "        total += target.size(0)\n",
    "        correct += (predicted == target).sum().item()\n",
    "        \n",
    "    accuracy = 100 * correct / total  # Calcular la precisión en porcentaje\n",
    "    mean_loss = np.mean(losses)*100\n",
    "    \n",
    "    MLossXepoc.append(mean_loss)\n",
    "    ACCxEpoc.append(accuracy)\n",
    "    epochX.append(epoch)\n",
    "    \n",
    "          \n",
    "    print(\n",
    "        f\"Train Epoch: {epoch} \\t\"\n",
    "        f\"Loss: {mean_loss:.6f}%\"\n",
    "        f\"Accuracy: {accuracy:.2f}% \"  # Mostrar la precisión\n",
    "       )\n",
    "    \n",
    "for epoch in range(1, 100):\n",
    "    train(model, train_loader, optimizer, epoch, device=\"cpu\")"
   ]
  },
  {
   "cell_type": "markdown",
   "id": "fbb221a0",
   "metadata": {},
   "source": [
    "# Función para Graficar Métricas\n",
    "\n",
    "En este bloque de código, se define la función `plot_metrics`, que se utiliza para crear y mostrar gráficos de métricas de entrenamiento y evaluación. A continuación, se describen los aspectos clave de esta función:\n",
    "\n",
    "- **Parámetros de Entrada**:\n",
    "  - `title`: El título del gráfico.\n",
    "  - `x_label`: Etiqueta del eje x.\n",
    "  - `y_label`: Etiqueta del eje y.\n",
    "  - `data1`: Los datos para la primera serie que se graficará.\n",
    "  - `label1`: La etiqueta para la primera serie.\n",
    "  - `data2`: Los datos para la segunda serie que se graficará.\n",
    "  - `label2`: La etiqueta para la segunda serie.\n",
    "  - `x_data`: Los datos para el eje x (por ejemplo, el número de épocas).\n",
    "  - `filename`: El nombre del archivo en el que se guardará el gráfico como imagen.\n",
    "\n",
    "- **Configuración del Gráfico**:\n",
    "  - Se establece el tamaño del gráfico utilizando `plt.figure(figsize=(10, 6))`.\n",
    "  - Se grafican las dos series de datos (`data1` y `data2`) con líneas punteadas de diferentes colores y se etiquetan con `label1` y `label2`.\n",
    "  - Se configuran las etiquetas de los ejes x e y y el título del gráfico.\n",
    "  - Se agrega una leyenda para diferenciar las dos series.\n",
    "  - Se muestra una cuadrícula en el gráfico con un estilo punteado y transparencia.\n",
    "  - Se ajusta el diseño del gráfico utilizando `plt.tight_layout()` para evitar solapamientos.\n",
    "\n",
    "- **Guardado y Visualización**:\n",
    "  - Finalmente, se guarda el gráfico como una imagen con el nombre especificado en `filename` utilizando `plt.savefig()`.\n",
    "  - Se muestra el gráfico en la salida.\n",
    "\n",
    "Esta función es útil para visualizar métricas de entrenamiento y evaluación, como pérdida y precisión, a lo largo de las épocas o iteraciones durante el entrenamiento de la red neuronal.\n"
   ]
  },
  {
   "cell_type": "code",
   "execution_count": 9,
   "id": "a597a23e",
   "metadata": {},
   "outputs": [],
   "source": [
    "import matplotlib.pyplot as plt\n",
    "\n",
    "def plot_metrics(title, x_label, y_label, data1, label1, data2, label2, x_data, filename):\n",
    "    plt.figure(figsize=(10, 6))  # Tamaño del gráfico\n",
    "    plt.plot(x_data, data1, marker='o', linestyle='--', color='b', label=label1, linewidth=2)\n",
    "    plt.plot(x_data, data2, marker='o', linestyle='--', color='g', label=label2, linewidth=2)\n",
    "    plt.xlabel(x_label, fontsize=14)  # Etiqueta del eje x\n",
    "    plt.ylabel(y_label, fontsize=14)  # Etiqueta del eje y\n",
    "    plt.title(title, fontsize=16)  # Título del gráfico\n",
    "    plt.legend(fontsize=12)  # Leyenda\n",
    "    plt.grid(True, linestyle='--', alpha=0.7)  # Cuadrícula con estilo\n",
    "    plt.tight_layout()  # Ajuste de diseño\n",
    "    plt.savefig(filename)  # Guardar el gráfico como imagen\n",
    "    plt.show()"
   ]
  },
  {
   "cell_type": "code",
   "execution_count": 10,
   "id": "78f99dc3",
   "metadata": {},
   "outputs": [
    {
     "data": {
      "image/png": "[encoded data removed]",
      "text/plain": [
       "<Figure size 1000x600 with 1 Axes>"
      ]
     },
     "metadata": {},
     "output_type": "display_data"
    }
   ],
   "source": [
    "plot_metrics('Pérdida vs Precisión por Época', 'Época', 'Medida en %', MLossXepoc, 'Loss', ACCxEpoc, 'Accuracy', epochX, 'loss_vs_acc.png')"
   ]
  },
  {
   "cell_type": "markdown",
   "id": "6d941568",
   "metadata": {},
   "source": [
    "# Observaciones sobre el Rendimiento del Modelo\n",
    "\n",
    "Basándonos en los resultados proporcionados durante el entrenamiento del modelo, podemos hacer las siguientes observaciones:\n",
    "\n",
    "1. **Pérdida Promedio por Época**:\n",
    "   - La pérdida promedio disminuye gradualmente a medida que aumenta el número de épocas.\n",
    "   - Inicialmente, la pérdida es alta, pero se observa una tendencia a la disminución. Esto sugiere que el modelo está aprendiendo de los datos de entrenamiento.\n",
    "\n",
    "2. **Precisión por Época**:\n",
    "   - La precisión muestra un patrón diferente al de la pérdida.\n",
    "   - Inicialmente, la precisión es baja (alrededor del 36.70%), lo que indica que el modelo está realizando predicciones aleatorias.\n",
    "   - A medida que progresa el entrenamiento, la precisión mejora significativamente, alcanzando alrededor del 69.89% en la época 11.\n",
    "   - Luego, la precisión se estabiliza en alrededor del 63.30% y no parece mejorar más.\n",
    "\n",
    "3. **Número de Épocas**:\n",
    "   - Se realizaron 99 épocas de entrenamiento.\n",
    "\n",
    "El modelo inicialmente tiene dificultades para aprender los patrones en los datos y realiza predicciones aleatorias. Sin embargo, a medida que se aumenta el número de épocas, el modelo comienza a aprender y mejora su precisión. Sin embargo, después de alrededor de 11 épocas, la mejora se estabiliza y la precisión parece mantenerse en alrededor del 63.30%. Esto podría indicar que el modelo ha alcanzado su capacidad de aprendizaje en los datos de entrenamiento y no se beneficia significativamente de más épocas de entrenamiento.\n",
    "\n",
    "Evaluar el modelo de manera más completa, es importante realizar pruebas en un conjunto de datos de prueba separado y considerar otras métricas de evaluación, como la matriz de confusión y el área bajo la curva ROC, para comprender mejor su rendimiento en la detección de cáncer de mama.\n"
   ]
  },
  {
   "cell_type": "markdown",
   "id": "79a7e547",
   "metadata": {},
   "source": [
    "# Referencia de Inspiración\n",
    "\n",
    "Gran parte del código y la estructura de este proyecto se basaron en el trabajo previamente realizado por [Alejandro Puig](https://github.com/puigalex/Pytorch_churn). Este recurso proporcionó valiosa orientación y ejemplos que sirvieron como punto de partida para el desarrollo de este proyecto.\n",
    "\n",
    "Agradecemos al autor del repositorio original por su contribución a la comunidad de aprendizaje de PyTorch y por compartir su conocimiento.\n"
   ]
  }
 ],
 "metadata": {
  "kernelspec": {
   "display_name": "Python 3 (ipykernel)",
   "language": "python",
   "name": "python3"
  },
  "language_info": {
   "codemirror_mode": {
    "name": "ipython",
    "version": 3
   },
   "file_extension": ".py",
   "mimetype": "text/x-python",
   "name": "python",
   "nbconvert_exporter": "python",
   "pygments_lexer": "ipython3",
   "version": "3.10.9"
  }
 },
 "nbformat": 4,
 "nbformat_minor": 5
}
